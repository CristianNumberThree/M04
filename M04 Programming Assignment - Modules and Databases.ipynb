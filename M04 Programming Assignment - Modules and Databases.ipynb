{
 "cells": [
  {
   "cell_type": "markdown",
   "id": "4c9c29f0",
   "metadata": {},
   "source": [
    "11.1 Create a file called zoo.py. In it, define a function called hours() that prints the string 'Open 9-5 daily'. Then, use the interactive interpreter to import the zoo module and call its hours() function."
   ]
  },
  {
   "cell_type": "code",
   "execution_count": null,
   "id": "5c0b99f9",
   "metadata": {},
   "outputs": [],
   "source": [
    "#zoo.py\n",
    "def hours():\n",
    "    print('Open 9-5 daily')"
   ]
  },
  {
   "cell_type": "code",
   "execution_count": null,
   "id": "7dc404de",
   "metadata": {},
   "outputs": [],
   "source": [
    ">>> import zoo\n",
    ">>> zoo.hours()"
   ]
  },
  {
   "cell_type": "markdown",
   "id": "b82f9c81",
   "metadata": {},
   "source": [
    "11.2 In the interactive interpreter, import the zoo module as menagerie and call its hours() function."
   ]
  },
  {
   "cell_type": "code",
   "execution_count": null,
   "id": "9fa19773",
   "metadata": {},
   "outputs": [],
   "source": [
    ">>> import zoo as menagerie\n",
    ">>> menagerie.hours()"
   ]
  },
  {
   "cell_type": "markdown",
   "id": "60aae04f",
   "metadata": {},
   "source": [
    "16.8 Use the sqlalchemy module to connect to the sqlite3 database books.db that you just made in exercise 16.4. As in 16.6, select and print the title column from the book table in alphabetical order."
   ]
  },
  {
   "cell_type": "code",
   "execution_count": null,
   "id": "5cedf5bf",
   "metadata": {},
   "outputs": [],
   "source": [
    "C:\\Users\\<user>\\Desktop>sqlite books.db\n",
    "sqlite>create table books (Title VARCHAR(20) PRIMARY KEY, Author TEXT, Year INT)"
   ]
  },
  {
   "cell_type": "code",
   "execution_count": null,
   "id": "f9cc82ae",
   "metadata": {},
   "outputs": [],
   "source": [
    "import sqalchemy\n",
    "import sqlite3\n",
    "\n",
    "connect = sqlite3.connect('books.db')\n",
    "cursor = connect.cursor('books.db')\n",
    "select= '''SELECT title FROM books ORDER BY title ASC'''\n",
    "cursor.execute(select)\n",
    "rows = cursor.fetchall()\n",
    "\n",
    "for row in rows:\n",
    "    print(row[0])\n"
   ]
  }
 ],
 "metadata": {
  "kernelspec": {
   "display_name": "Python 3 (ipykernel)",
   "language": "python",
   "name": "python3"
  },
  "language_info": {
   "codemirror_mode": {
    "name": "ipython",
    "version": 3
   },
   "file_extension": ".py",
   "mimetype": "text/x-python",
   "name": "python",
   "nbconvert_exporter": "python",
   "pygments_lexer": "ipython3",
   "version": "3.11.5"
  }
 },
 "nbformat": 4,
 "nbformat_minor": 5
}
